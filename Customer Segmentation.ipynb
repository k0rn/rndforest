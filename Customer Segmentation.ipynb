{
 "metadata": {
  "name": "",
  "signature": "sha256:6e1c7b6858c4d8d9ad3b63bff4cd7d438327766501e2aacd4eef4ac6c464f079"
 },
 "nbformat": 3,
 "nbformat_minor": 0,
 "worksheets": [
  {
   "cells": [
    {
     "cell_type": "heading",
     "level": 1,
     "metadata": {},
     "source": [
      "Customer segmentation using decision tree"
     ]
    },
    {
     "cell_type": "markdown",
     "metadata": {},
     "source": [
      "Loading the data set\n",
      "- This is Bank direct marketting dataset obtained from https://archive.ics.uci.edu/ml/machine-learning-databases/00222/\n",
      "- Dataset is clean and hence can be used for analysis directly which wont be the case when a new dataset needs to be created\n",
      "- Dataset author citation: \n",
      "\n",
      "      [Moro et al., 2011] S. Moro, R. Laureano and P. Cortez. Using Data Mining for Bank Direct Marketing: An Application of  the CRISP-DM Methodology. \n",
      "      In P. Novais et al. (Eds.), Proceedings of the European Simulation and Modelling Conference - ESM'2011, pp. 117-121, Guimar\u00e3es, Portugal, October, 2011. EUROSIS.\n"
     ]
    },
    {
     "cell_type": "markdown",
     "metadata": {},
     "source": [
      "Bank datafile"
     ]
    },
    {
     "cell_type": "code",
     "collapsed": false,
     "input": [
      "bank = \"D:\\\\down\\\\bank\\\\bank.csv\"\n",
      "bank_full = \"D:\\\\down\\\\bank\\\\bank-full.csv\"\n",
      "bank_add = \"D:\\\\down\\\\bank-additional\\\\bank-additional\\\\bank-additional.csv\"\n",
      "bank_add_f = \"D:\\\\down\\\\bank-additional\\\\bank-additional\\\\bank-additional-full.csv\""
     ],
     "language": "python",
     "metadata": {},
     "outputs": [],
     "prompt_number": 4
    },
    {
     "cell_type": "heading",
     "level": 3,
     "metadata": {},
     "source": [
      "1) Importing all the necessary libraries for computation"
     ]
    },
    {
     "cell_type": "code",
     "collapsed": false,
     "input": [
      "import csv\n",
      "import numpy as np\n",
      "from sklearn import ensemble\n",
      "from sklearn.cross_validation import cross_val_score\n",
      "from matplotlib import pyplot as plt\n",
      "import pandas as pd\n",
      "from sklearn import preprocessing\n",
      "from sklearn import linear_model\n",
      "from sklearn import svm\n",
      "from sklearn.decomposition import PCA\n",
      "%matplotlib inline"
     ],
     "language": "python",
     "metadata": {},
     "outputs": [],
     "prompt_number": 2
    },
    {
     "cell_type": "heading",
     "level": 3,
     "metadata": {},
     "source": [
      "2) Reading data files and preliminary inspection"
     ]
    },
    {
     "cell_type": "code",
     "collapsed": false,
     "input": [
      "data = pd.read_csv(bank_full,delimiter=';')\n",
      "data.head()\n",
      "#------------------------------------------------------\n",
      "# Ancient way of reading csv\n",
      "#bankData = []\n",
      "#with open(bank ,'rb') as f:\n",
      "#   bank_d = csv.reader(f,delimiter = ';')\n",
      "#    c = 0\n",
      "#    for line in bank_d:\n",
      "#        bankData.insert(c,line)\n",
      "#       c += 1\n",
      "#-------------------------------------------------------"
     ],
     "language": "python",
     "metadata": {},
     "outputs": [
      {
       "html": [
        "<div style=\"max-height:1000px;max-width:1500px;overflow:auto;\">\n",
        "<table border=\"1\" class=\"dataframe\">\n",
        "  <thead>\n",
        "    <tr style=\"text-align: right;\">\n",
        "      <th></th>\n",
        "      <th>age</th>\n",
        "      <th>job</th>\n",
        "      <th>marital</th>\n",
        "      <th>education</th>\n",
        "      <th>default</th>\n",
        "      <th>balance</th>\n",
        "      <th>housing</th>\n",
        "      <th>loan</th>\n",
        "      <th>contact</th>\n",
        "      <th>day</th>\n",
        "      <th>month</th>\n",
        "      <th>duration</th>\n",
        "      <th>campaign</th>\n",
        "      <th>pdays</th>\n",
        "      <th>previous</th>\n",
        "      <th>poutcome</th>\n",
        "      <th>y</th>\n",
        "    </tr>\n",
        "  </thead>\n",
        "  <tbody>\n",
        "    <tr>\n",
        "      <th>0</th>\n",
        "      <td> 58</td>\n",
        "      <td>   management</td>\n",
        "      <td> married</td>\n",
        "      <td>  tertiary</td>\n",
        "      <td> no</td>\n",
        "      <td> 2143</td>\n",
        "      <td> yes</td>\n",
        "      <td>  no</td>\n",
        "      <td> unknown</td>\n",
        "      <td> 5</td>\n",
        "      <td> may</td>\n",
        "      <td> 261</td>\n",
        "      <td> 1</td>\n",
        "      <td>-1</td>\n",
        "      <td> 0</td>\n",
        "      <td> unknown</td>\n",
        "      <td> no</td>\n",
        "    </tr>\n",
        "    <tr>\n",
        "      <th>1</th>\n",
        "      <td> 44</td>\n",
        "      <td>   technician</td>\n",
        "      <td>  single</td>\n",
        "      <td> secondary</td>\n",
        "      <td> no</td>\n",
        "      <td>   29</td>\n",
        "      <td> yes</td>\n",
        "      <td>  no</td>\n",
        "      <td> unknown</td>\n",
        "      <td> 5</td>\n",
        "      <td> may</td>\n",
        "      <td> 151</td>\n",
        "      <td> 1</td>\n",
        "      <td>-1</td>\n",
        "      <td> 0</td>\n",
        "      <td> unknown</td>\n",
        "      <td> no</td>\n",
        "    </tr>\n",
        "    <tr>\n",
        "      <th>2</th>\n",
        "      <td> 33</td>\n",
        "      <td> entrepreneur</td>\n",
        "      <td> married</td>\n",
        "      <td> secondary</td>\n",
        "      <td> no</td>\n",
        "      <td>    2</td>\n",
        "      <td> yes</td>\n",
        "      <td> yes</td>\n",
        "      <td> unknown</td>\n",
        "      <td> 5</td>\n",
        "      <td> may</td>\n",
        "      <td>  76</td>\n",
        "      <td> 1</td>\n",
        "      <td>-1</td>\n",
        "      <td> 0</td>\n",
        "      <td> unknown</td>\n",
        "      <td> no</td>\n",
        "    </tr>\n",
        "    <tr>\n",
        "      <th>3</th>\n",
        "      <td> 47</td>\n",
        "      <td>  blue-collar</td>\n",
        "      <td> married</td>\n",
        "      <td>   unknown</td>\n",
        "      <td> no</td>\n",
        "      <td> 1506</td>\n",
        "      <td> yes</td>\n",
        "      <td>  no</td>\n",
        "      <td> unknown</td>\n",
        "      <td> 5</td>\n",
        "      <td> may</td>\n",
        "      <td>  92</td>\n",
        "      <td> 1</td>\n",
        "      <td>-1</td>\n",
        "      <td> 0</td>\n",
        "      <td> unknown</td>\n",
        "      <td> no</td>\n",
        "    </tr>\n",
        "    <tr>\n",
        "      <th>4</th>\n",
        "      <td> 33</td>\n",
        "      <td>      unknown</td>\n",
        "      <td>  single</td>\n",
        "      <td>   unknown</td>\n",
        "      <td> no</td>\n",
        "      <td>    1</td>\n",
        "      <td>  no</td>\n",
        "      <td>  no</td>\n",
        "      <td> unknown</td>\n",
        "      <td> 5</td>\n",
        "      <td> may</td>\n",
        "      <td> 198</td>\n",
        "      <td> 1</td>\n",
        "      <td>-1</td>\n",
        "      <td> 0</td>\n",
        "      <td> unknown</td>\n",
        "      <td> no</td>\n",
        "    </tr>\n",
        "  </tbody>\n",
        "</table>\n",
        "</div>"
       ],
       "metadata": {},
       "output_type": "pyout",
       "prompt_number": 5,
       "text": [
        "   age           job  marital  education default  balance housing loan  \\\n",
        "0   58    management  married   tertiary      no     2143     yes   no   \n",
        "1   44    technician   single  secondary      no       29     yes   no   \n",
        "2   33  entrepreneur  married  secondary      no        2     yes  yes   \n",
        "3   47   blue-collar  married    unknown      no     1506     yes   no   \n",
        "4   33       unknown   single    unknown      no        1      no   no   \n",
        "\n",
        "   contact  day month  duration  campaign  pdays  previous poutcome   y  \n",
        "0  unknown    5   may       261         1     -1         0  unknown  no  \n",
        "1  unknown    5   may       151         1     -1         0  unknown  no  \n",
        "2  unknown    5   may        76         1     -1         0  unknown  no  \n",
        "3  unknown    5   may        92         1     -1         0  unknown  no  \n",
        "4  unknown    5   may       198         1     -1         0  unknown  no  "
       ]
      }
     ],
     "prompt_number": 5
    },
    {
     "cell_type": "code",
     "collapsed": false,
     "input": [
      "len(data)"
     ],
     "language": "python",
     "metadata": {},
     "outputs": [
      {
       "metadata": {},
       "output_type": "pyout",
       "prompt_number": 6,
       "text": [
        "45211"
       ]
      }
     ],
     "prompt_number": 6
    },
    {
     "cell_type": "heading",
     "level": 3,
     "metadata": {},
     "source": [
      "    (i) Preprocessing data"
     ]
    },
    {
     "cell_type": "markdown",
     "metadata": {},
     "source": [
      "Changing column \n",
      "- job \t\n",
      "- marital\n",
      "- education\n",
      "- default\n",
      "- housing\n",
      "- loan\n",
      "- contact\n",
      "- duration\n",
      "- pdays\n",
      "- previous\n",
      "- poutcome\n",
      "- yesno"
     ]
    },
    {
     "cell_type": "code",
     "collapsed": false,
     "input": [
      "x = data.columns\n",
      "\n",
      "for column in x:\n",
      "    le = preprocessing.LabelEncoder()\n",
      "    le.fit(data[column])\n",
      "    data[column] = le.transform(data[column])\n",
      "\n",
      "data.head()\n"
     ],
     "language": "python",
     "metadata": {},
     "outputs": [
      {
       "html": [
        "<div style=\"max-height:1000px;max-width:1500px;overflow:auto;\">\n",
        "<table border=\"1\" class=\"dataframe\">\n",
        "  <thead>\n",
        "    <tr style=\"text-align: right;\">\n",
        "      <th></th>\n",
        "      <th>age</th>\n",
        "      <th>job</th>\n",
        "      <th>marital</th>\n",
        "      <th>education</th>\n",
        "      <th>default</th>\n",
        "      <th>balance</th>\n",
        "      <th>housing</th>\n",
        "      <th>loan</th>\n",
        "      <th>contact</th>\n",
        "      <th>day</th>\n",
        "      <th>month</th>\n",
        "      <th>duration</th>\n",
        "      <th>campaign</th>\n",
        "      <th>pdays</th>\n",
        "      <th>previous</th>\n",
        "      <th>poutcome</th>\n",
        "      <th>y</th>\n",
        "    </tr>\n",
        "  </thead>\n",
        "  <tbody>\n",
        "    <tr>\n",
        "      <th>0</th>\n",
        "      <td> 40</td>\n",
        "      <td>  4</td>\n",
        "      <td> 1</td>\n",
        "      <td> 2</td>\n",
        "      <td> 0</td>\n",
        "      <td> 3036</td>\n",
        "      <td> 1</td>\n",
        "      <td> 0</td>\n",
        "      <td> 2</td>\n",
        "      <td> 4</td>\n",
        "      <td> 8</td>\n",
        "      <td> 261</td>\n",
        "      <td> 0</td>\n",
        "      <td> 0</td>\n",
        "      <td> 0</td>\n",
        "      <td> 3</td>\n",
        "      <td> 0</td>\n",
        "    </tr>\n",
        "    <tr>\n",
        "      <th>1</th>\n",
        "      <td> 26</td>\n",
        "      <td>  9</td>\n",
        "      <td> 2</td>\n",
        "      <td> 1</td>\n",
        "      <td> 0</td>\n",
        "      <td>  945</td>\n",
        "      <td> 1</td>\n",
        "      <td> 0</td>\n",
        "      <td> 2</td>\n",
        "      <td> 4</td>\n",
        "      <td> 8</td>\n",
        "      <td> 151</td>\n",
        "      <td> 0</td>\n",
        "      <td> 0</td>\n",
        "      <td> 0</td>\n",
        "      <td> 3</td>\n",
        "      <td> 0</td>\n",
        "    </tr>\n",
        "    <tr>\n",
        "      <th>2</th>\n",
        "      <td> 15</td>\n",
        "      <td>  2</td>\n",
        "      <td> 1</td>\n",
        "      <td> 1</td>\n",
        "      <td> 0</td>\n",
        "      <td>  918</td>\n",
        "      <td> 1</td>\n",
        "      <td> 1</td>\n",
        "      <td> 2</td>\n",
        "      <td> 4</td>\n",
        "      <td> 8</td>\n",
        "      <td>  76</td>\n",
        "      <td> 0</td>\n",
        "      <td> 0</td>\n",
        "      <td> 0</td>\n",
        "      <td> 3</td>\n",
        "      <td> 0</td>\n",
        "    </tr>\n",
        "    <tr>\n",
        "      <th>3</th>\n",
        "      <td> 29</td>\n",
        "      <td>  1</td>\n",
        "      <td> 1</td>\n",
        "      <td> 3</td>\n",
        "      <td> 0</td>\n",
        "      <td> 2420</td>\n",
        "      <td> 1</td>\n",
        "      <td> 0</td>\n",
        "      <td> 2</td>\n",
        "      <td> 4</td>\n",
        "      <td> 8</td>\n",
        "      <td>  92</td>\n",
        "      <td> 0</td>\n",
        "      <td> 0</td>\n",
        "      <td> 0</td>\n",
        "      <td> 3</td>\n",
        "      <td> 0</td>\n",
        "    </tr>\n",
        "    <tr>\n",
        "      <th>4</th>\n",
        "      <td> 15</td>\n",
        "      <td> 11</td>\n",
        "      <td> 2</td>\n",
        "      <td> 3</td>\n",
        "      <td> 0</td>\n",
        "      <td>  917</td>\n",
        "      <td> 0</td>\n",
        "      <td> 0</td>\n",
        "      <td> 2</td>\n",
        "      <td> 4</td>\n",
        "      <td> 8</td>\n",
        "      <td> 198</td>\n",
        "      <td> 0</td>\n",
        "      <td> 0</td>\n",
        "      <td> 0</td>\n",
        "      <td> 3</td>\n",
        "      <td> 0</td>\n",
        "    </tr>\n",
        "  </tbody>\n",
        "</table>\n",
        "</div>"
       ],
       "metadata": {},
       "output_type": "pyout",
       "prompt_number": 7,
       "text": [
        "   age  job  marital  education  default  balance  housing  loan  contact  \\\n",
        "0   40    4        1          2        0     3036        1     0        2   \n",
        "1   26    9        2          1        0      945        1     0        2   \n",
        "2   15    2        1          1        0      918        1     1        2   \n",
        "3   29    1        1          3        0     2420        1     0        2   \n",
        "4   15   11        2          3        0      917        0     0        2   \n",
        "\n",
        "   day  month  duration  campaign  pdays  previous  poutcome  y  \n",
        "0    4      8       261         0      0         0         3  0  \n",
        "1    4      8       151         0      0         0         3  0  \n",
        "2    4      8        76         0      0         0         3  0  \n",
        "3    4      8        92         0      0         0         3  0  \n",
        "4    4      8       198         0      0         0         3  0  "
       ]
      }
     ],
     "prompt_number": 7
    },
    {
     "cell_type": "code",
     "collapsed": false,
     "input": [
      "res_rate = float(len(data[data['y']==1]))/float(len(data))\n",
      "print 'Present Response rate - ' + str(res_rate*100)+'%'"
     ],
     "language": "python",
     "metadata": {},
     "outputs": [
      {
       "output_type": "stream",
       "stream": "stdout",
       "text": [
        "Present Response rate - 11.6984804583%\n"
       ]
      }
     ],
     "prompt_number": 8
    },
    {
     "cell_type": "code",
     "collapsed": false,
     "input": [
      "pca = PCA(n_components= 4)"
     ],
     "language": "python",
     "metadata": {},
     "outputs": [],
     "prompt_number": 9
    },
    {
     "cell_type": "code",
     "collapsed": false,
     "input": [
      "pca.fit(data)"
     ],
     "language": "python",
     "metadata": {},
     "outputs": [
      {
       "metadata": {},
       "output_type": "pyout",
       "prompt_number": 10,
       "text": [
        "PCA(copy=True, n_components=4, whiten=False)"
       ]
      }
     ],
     "prompt_number": 10
    },
    {
     "cell_type": "code",
     "collapsed": false,
     "input": [
      "mdata = pca.transform(data)"
     ],
     "language": "python",
     "metadata": {},
     "outputs": [],
     "prompt_number": 17
    },
    {
     "cell_type": "code",
     "collapsed": false,
     "input": [
      "print mdata"
     ],
     "language": "python",
     "metadata": {},
     "outputs": [
      {
       "output_type": "stream",
       "stream": "stdout",
       "text": [
        "[[ -1.07268728e+03   1.24901935e+00  -4.09909497e+01  -1.62783980e+01]\n",
        " [  1.01898801e+03   9.77755244e+01  -3.92217329e+01  -3.98788041e+00]\n",
        " [  1.04648030e+03   1.72594724e+02  -3.91441041e+01   6.92903164e+00]\n",
        " ..., \n",
        " [ -3.49730216e+03  -8.38172293e+02   1.37696849e+02  -2.87250819e+01]\n",
        " [  3.77691517e+02  -2.55078195e+02  -3.99646785e+01  -1.63521124e+01]\n",
        " [ -1.81645004e+03  -9.40021863e+01   1.43452782e+02   5.10015546e+00]]\n"
       ]
      }
     ],
     "prompt_number": 19
    },
    {
     "cell_type": "markdown",
     "metadata": {},
     "source": [
      "__Below will split 80% of data from all month and put it in training set__"
     ]
    },
    {
     "cell_type": "code",
     "collapsed": false,
     "input": [
      "train_1 = pd.DataFrame(columns=['age','job','marital','education','default','balance','housing'\\\n",
      "                                ,'loan','contact','day','month','duration','campaign','pdays','previous','poutcome','y'])\n",
      "for i in range(11):\n",
      "    in_1 = data.index[data['month']==i]\n",
      "    un = []\n",
      "    m = int(0.8*len(in_1))\n",
      "    for i in range(m):\n",
      "        un.insert(i,in_1[i])\n",
      "    if(len(train_1) != 0):\n",
      "        train_1 = pd.concat([train_1,data.ix[un]])\n",
      "    else:\n",
      "        train_1 = data.ix[un]"
     ],
     "language": "python",
     "metadata": {},
     "outputs": [],
     "prompt_number": 7
    },
    {
     "cell_type": "markdown",
     "metadata": {},
     "source": [
      "__Below will get all the index not in training set and create a new dataframe__"
     ]
    },
    {
     "cell_type": "code",
     "collapsed": false,
     "input": [
      "b = set(data.index)\n",
      "a = set(train_1.index)\n",
      "non_trainin = b.symmetric_difference(a)\n",
      "test_1 = data.ix[non_trainin]"
     ],
     "language": "python",
     "metadata": {},
     "outputs": [],
     "prompt_number": 8
    },
    {
     "cell_type": "markdown",
     "metadata": {},
     "source": [
      "__Its a thumb rule to take 80% of data to create a model and 20% of it to create a test set. We are splitting the dataset as train and test.__"
     ]
    },
    {
     "cell_type": "code",
     "collapsed": false,
     "input": [
      "x = int(0.8*data.count()[0])\n",
      "train = data.ix[1:x]\n",
      "test  = data.ix[x::]\n",
      "\n",
      "print len(train),len(test)"
     ],
     "language": "python",
     "metadata": {},
     "outputs": [
      {
       "output_type": "stream",
       "stream": "stdout",
       "text": [
        "36168 9043\n"
       ]
      }
     ],
     "prompt_number": 9
    },
    {
     "cell_type": "markdown",
     "metadata": {},
     "source": [
      "Creating model"
     ]
    },
    {
     "cell_type": "markdown",
     "metadata": {},
     "source": [
      "- We are creating a random forest with 50 estimators\n",
      "- We are using age , job , marital , education , default , balance , housing , loan , day , month , duration , pdays , previous , y"
     ]
    },
    {
     "cell_type": "code",
     "collapsed": false,
     "input": [
      "model = ensemble.RandomForestClassifier(n_estimators=200,criterion='gini',max_depth=None)"
     ],
     "language": "python",
     "metadata": {},
     "outputs": [],
     "prompt_number": 10
    },
    {
     "cell_type": "heading",
     "level": 3,
     "metadata": {},
     "source": [
      "3) Training the training set"
     ]
    },
    {
     "cell_type": "code",
     "collapsed": false,
     "input": [
      "%timeit\n",
      "clf = model.fit(train.ix[:,'age':'duration'],train['y'])"
     ],
     "language": "python",
     "metadata": {},
     "outputs": [],
     "prompt_number": 11
    },
    {
     "cell_type": "heading",
     "level": 3,
     "metadata": {},
     "source": [
      "4) Predicting from test set"
     ]
    },
    {
     "cell_type": "code",
     "collapsed": false,
     "input": [
      "a = clf.predict(test.ix[:,'age':'duration'])"
     ],
     "language": "python",
     "metadata": {},
     "outputs": [],
     "prompt_number": 12
    },
    {
     "cell_type": "markdown",
     "metadata": {},
     "source": [
      "__Positive prediction , Negetive Predicitions , Actual Positives , Actual Negatives__"
     ]
    },
    {
     "cell_type": "code",
     "collapsed": false,
     "input": [
      "# creating array of column 'y'\n",
      "x = []\n",
      "c = 0\n",
      "for i in range(len(test['y'])):\n",
      "    x.insert(c,test['y'][i+36168])\n",
      "    c += 1\n",
      "#----------------------------------------------------#\n",
      "# Calculating number of positive predictions         #\n",
      "pp = 0\n",
      "for i in range(len(a)):\n",
      "    if(a[i]==1):\n",
      "        pp +=1\n",
      "#----------------------------------------------------#\n",
      "# Calculating number of correct positive predictions\n",
      "cp = 0\n",
      "for i in range(len(a)):\n",
      "    if((a[i]==1) and (x[i]==1)):\n",
      "        cp += 1\n",
      "#----------------------------------------------------#\n",
      "# Calculating number of Negative Predictions\n",
      "np = 0\n",
      "for i in range(len(a)):\n",
      "    if(a[i]!=1):\n",
      "        np +=1\n",
      "        \n",
      "ap=len(test[test['y']==1])\n",
      "\n",
      "an=len(test[test['y']!=1])\n",
      "\n",
      "print 'Positive Prediction-- ' + str(pp)\n",
      "print 'Negative Prediction-- ' + str(np)\n",
      "print 'Correct Positives---- ' + str(cp)\n",
      "print 'Actual Positive------ ' + str(ap)\n",
      "print 'Actual Negatives----- ' + str(an)\n",
      "fig = plt.figure()\n",
      "ax = fig.add_subplot(111)\n",
      "ax.bar((1,2),(pp,ap),color = 'green',width = 0.35)\n",
      "ax.bar((3,4),(np,an),color = 'red',width = 0.35)"
     ],
     "language": "python",
     "metadata": {},
     "outputs": [
      {
       "output_type": "stream",
       "stream": "stdout",
       "text": [
        "Positive Prediction-- 1259\n",
        "Negative Prediction-- 7784\n",
        "Correct Positives---- 731\n",
        "Actual Positive------ 2856\n",
        "Actual Negatives----- 6187\n"
       ]
      },
      {
       "metadata": {},
       "output_type": "pyout",
       "prompt_number": 13,
       "text": [
        "<Container object of 2 artists>"
       ]
      },
      {
       "metadata": {},
       "output_type": "display_data",
       "png": "[encoded data removed]",
       "text": [
        "<matplotlib.figure.Figure at 0x16d21550>"
       ]
      }
     ],
     "prompt_number": 13
    },
    {
     "cell_type": "markdown",
     "metadata": {},
     "source": [
      "__Predicted Response Rate__"
     ]
    },
    {
     "cell_type": "code",
     "collapsed": false,
     "input": [
      "print 'Number of Predicted Positives - ' + str(pp)\n",
      "\n",
      "app = 0\n",
      "for i in range(len(a)):\n",
      "    if((a[i]==1)and(x[i]==1)):\n",
      "        app +=1\n",
      "print 'Number of Actual Positives in predicted outcome - ' + str(app)"
     ],
     "language": "python",
     "metadata": {},
     "outputs": [
      {
       "output_type": "stream",
       "stream": "stdout",
       "text": [
        "Number of Predicted Positives - 1259\n",
        "Number of Actual Positives in predicted outcome - 731\n"
       ]
      }
     ],
     "prompt_number": 14
    },
    {
     "cell_type": "markdown",
     "metadata": {},
     "source": [
      "__Response Rate__"
     ]
    },
    {
     "cell_type": "code",
     "collapsed": false,
     "input": [
      "print 'Response rate without Predictive analysis -- ' + str((float(ap)/(len(test)))*100)+'%'\n",
      "print 'Response rate with    Predictive analysis -- ' + str((float(cp)/pp)*100)+'%'"
     ],
     "language": "python",
     "metadata": {},
     "outputs": [
      {
       "output_type": "stream",
       "stream": "stdout",
       "text": [
        "Response rate without Predictive analysis -- 31.5824394559%\n",
        "Response rate with    Predictive analysis -- 58.0619539317%\n"
       ]
      }
     ],
     "prompt_number": 15
    },
    {
     "cell_type": "markdown",
     "metadata": {},
     "source": [
      "__Validation Score__"
     ]
    },
    {
     "cell_type": "code",
     "collapsed": false,
     "input": [
      "score = cross_val_score(clf,train.ix[:,'age':'previous'],train['y'])"
     ],
     "language": "python",
     "metadata": {},
     "outputs": [],
     "prompt_number": 16
    },
    {
     "cell_type": "code",
     "collapsed": false,
     "input": [
      "score.mean()"
     ],
     "language": "python",
     "metadata": {},
     "outputs": [
      {
       "metadata": {},
       "output_type": "pyout",
       "prompt_number": 17,
       "text": [
        "0.68618668436186681"
       ]
      }
     ],
     "prompt_number": 17
    },
    {
     "cell_type": "code",
     "collapsed": false,
     "input": [
      "clf.feature_importances_"
     ],
     "language": "python",
     "metadata": {},
     "outputs": [
      {
       "metadata": {},
       "output_type": "pyout",
       "prompt_number": 18,
       "text": [
        "array([ 0.11615601,  0.05791691,  0.02519872,  0.03113158,  0.0039079 ,\n",
        "        0.13336515,  0.02064329,  0.01187509,  0.0159651 ,  0.10572313,\n",
        "        0.08157973,  0.3965374 ])"
       ]
      }
     ],
     "prompt_number": 18
    },
    {
     "cell_type": "heading",
     "level": 3,
     "metadata": {},
     "source": [
      "Prediction for dataset segmented based on month"
     ]
    },
    {
     "cell_type": "code",
     "collapsed": false,
     "input": [
      "%%timeit\n",
      "model2 = ensemble.RandomForestClassifier(n_estimators=50,criterion='gini',max_depth=None)\n",
      "clf = model2.fit(train_1.ix[:,'age':'duration'],train_1['y'])\n",
      "a = clf.predict(test_1.ix[:,'age':'duration'])\n",
      "score = cross_val_score(clf,train_1.ix[:,'age':'previous'],train_1['y'])\n",
      "score.mean()"
     ],
     "language": "python",
     "metadata": {},
     "outputs": [
      {
       "output_type": "stream",
       "stream": "stdout",
       "text": [
        "1 loops, best of 3: 4.8 s per loop\n"
       ]
      }
     ],
     "prompt_number": 19
    },
    {
     "cell_type": "code",
     "collapsed": false,
     "input": [
      "score.mean()"
     ],
     "language": "python",
     "metadata": {},
     "outputs": [
      {
       "metadata": {},
       "output_type": "pyout",
       "prompt_number": 20,
       "text": [
        "0.68618668436186681"
       ]
      }
     ],
     "prompt_number": 20
    },
    {
     "cell_type": "code",
     "collapsed": false,
     "input": [
      "# creating array of column 'y'\n",
      "x = []\n",
      "c = 0\n",
      "for i in range(len(test_1['y'])):\n",
      "    x.insert(c,test_1['y'][(test_1.index)[i]])\n",
      "    c += 1\n",
      "#----------------------------------------------------#\n",
      "# Calculating number of positive predictions         #\n",
      "pp = 0\n",
      "for i in range(len(a)):\n",
      "    if(a[i]==1):\n",
      "        pp +=1\n",
      "#----------------------------------------------------#\n",
      "# Calculating number of correct positive predictions\n",
      "cp = 0\n",
      "for i in range(len(a)):\n",
      "    if((a[i]==1) and (x[i]==1)):\n",
      "        cp += 1\n",
      "#----------------------------------------------------#\n",
      "# Calculating number of Negative Predictions\n",
      "np = 0\n",
      "for i in range(len(a)):\n",
      "    if(a[i]!=1):\n",
      "        np +=1\n",
      "        \n",
      "ap=len(test_1[test_1['y']==1])\n",
      "\n",
      "an=len(test_1[test_1['y']!=1])\n",
      "\n",
      "print 'Positive Prediction-- ' + str(pp)\n",
      "print 'Negative Prediction-- ' + str(np)\n",
      "print 'Correct Positives---- ' + str(cp)\n",
      "print 'Actual Positive------ ' + str(ap)\n",
      "print 'Actual Negatives----- ' + str(an)\n",
      "fig = plt.figure()\n",
      "ax = fig.add_subplot(111)\n",
      "ax.bar((1,2),(pp,ap),color = 'green',width = 0.35)\n",
      "ax.bar((3,4),(np,an),color = 'red',width = 0.35)"
     ],
     "language": "python",
     "metadata": {},
     "outputs": [
      {
       "output_type": "stream",
       "stream": "stdout",
       "text": [
        "Positive Prediction-- 1259\n",
        "Negative Prediction-- 7784\n",
        "Correct Positives---- 494\n",
        "Actual Positive------ 2764\n",
        "Actual Negatives----- 6746\n"
       ]
      },
      {
       "metadata": {},
       "output_type": "pyout",
       "prompt_number": 21,
       "text": [
        "<Container object of 2 artists>"
       ]
      },
      {
       "metadata": {},
       "output_type": "display_data",
       "png": "[encoded data removed]",
       "text": [
        "<matplotlib.figure.Figure at 0x133efb38>"
       ]
      }
     ],
     "prompt_number": 21
    },
    {
     "cell_type": "code",
     "collapsed": false,
     "input": [
      "print 'Number of Predicted Positives - ' + str(pp)\n",
      "\n",
      "app = 0\n",
      "for i in range(len(a)):\n",
      "    if((a[i]==1)and(x[i]==1)):\n",
      "        app +=1\n",
      "print 'Number of Actual Positives in predicted outcome - ' + str(app)"
     ],
     "language": "python",
     "metadata": {},
     "outputs": [
      {
       "output_type": "stream",
       "stream": "stdout",
       "text": [
        "Number of Predicted Positives - 1259\n",
        "Number of Actual Positives in predicted outcome - 494\n"
       ]
      }
     ],
     "prompt_number": 22
    },
    {
     "cell_type": "code",
     "collapsed": false,
     "input": [
      "print 'Response rate without Predictive analysis -- ' + str((float(ap)/(len(test_1)))*100)+'%'\n",
      "print 'Response rate with    Predictive analysis -- ' + str((float(cp)/pp)*100)+'%'"
     ],
     "language": "python",
     "metadata": {},
     "outputs": [
      {
       "output_type": "stream",
       "stream": "stdout",
       "text": [
        "Response rate without Predictive analysis -- 29.0641430074%\n",
        "Response rate with    Predictive analysis -- 39.2374900715%\n"
       ]
      }
     ],
     "prompt_number": 23
    },
    {
     "cell_type": "markdown",
     "metadata": {},
     "source": [
      "__Using Logistic Regression__"
     ]
    },
    {
     "cell_type": "code",
     "collapsed": false,
     "input": [
      "model = linear_model.LogisticRegression()"
     ],
     "language": "python",
     "metadata": {},
     "outputs": [],
     "prompt_number": 26
    },
    {
     "cell_type": "code",
     "collapsed": false,
     "input": [
      "clf = model.fit(train.ix[:,'age':'duration'],train['y'])\n",
      "a = clf.predict(test.ix[:,'age':'duration'])\n",
      "score = cross_val_score(clf,train.ix[:,'age':'previous'],train['y'])\n",
      "score.mean()"
     ],
     "language": "python",
     "metadata": {},
     "outputs": [
      {
       "metadata": {},
       "output_type": "pyout",
       "prompt_number": 28,
       "text": [
        "0.84314863968148634"
       ]
      }
     ],
     "prompt_number": 28
    },
    {
     "cell_type": "code",
     "collapsed": false,
     "input": [
      "# creating array of column 'y'\n",
      "x = []\n",
      "c = 0\n",
      "for i in range(len(test['y'])):\n",
      "    x.insert(c,test['y'][i+36168])\n",
      "    c += 1\n",
      "#----------------------------------------------------#\n",
      "# Calculating number of positive predictions         #\n",
      "pp = 0\n",
      "for i in range(len(a)):\n",
      "    if(a[i]==1):\n",
      "        pp +=1\n",
      "#----------------------------------------------------#\n",
      "# Calculating number of correct positive predictions\n",
      "cp = 0\n",
      "for i in range(len(a)):\n",
      "    if((a[i]==1) and (x[i]==1)):\n",
      "        cp += 1\n",
      "#----------------------------------------------------#\n",
      "# Calculating number of Negative Predictions\n",
      "np = 0\n",
      "for i in range(len(a)):\n",
      "    if(a[i]!=1):\n",
      "        np +=1\n",
      "        \n",
      "ap=len(test[test['y']==1])\n",
      "\n",
      "an=len(test[test['y']!=1])\n",
      "\n",
      "print 'Positive Prediction-- ' + str(pp)\n",
      "print 'Negative Prediction-- ' + str(np)\n",
      "print 'Correct Positives---- ' + str(cp)\n",
      "print 'Actual Positive------ ' + str(ap)\n",
      "print 'Actual Negatives----- ' + str(an)\n",
      "fig = plt.figure()\n",
      "ax = fig.add_subplot(111)\n",
      "ax.bar((1,2),(pp,ap),color = 'green',width = 0.35)\n",
      "ax.bar((3,4),(np,an),color = 'red',width = 0.35)"
     ],
     "language": "python",
     "metadata": {},
     "outputs": [
      {
       "output_type": "stream",
       "stream": "stdout",
       "text": [
        "Positive Prediction-- 224\n",
        "Negative Prediction-- 8819\n",
        "Correct Positives---- 149\n",
        "Actual Positive------ 2856\n",
        "Actual Negatives----- 6187\n"
       ]
      },
      {
       "metadata": {},
       "output_type": "pyout",
       "prompt_number": 29,
       "text": [
        "<Container object of 2 artists>"
       ]
      },
      {
       "metadata": {},
       "output_type": "display_data",
       "png": "[encoded data removed]",
       "text": [
        "<matplotlib.figure.Figure at 0x20e401d0>"
       ]
      }
     ],
     "prompt_number": 29
    },
    {
     "cell_type": "code",
     "collapsed": false,
     "input": [],
     "language": "python",
     "metadata": {},
     "outputs": []
    }
   ],
   "metadata": {}
  }
 ]
}